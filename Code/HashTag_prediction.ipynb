{
 "cells": [
  {
   "cell_type": "markdown",
   "metadata": {},
   "source": [
    "#            HashTag Recommendation based on user's post "
   ]
  },
  {
   "cell_type": "markdown",
   "metadata": {},
   "source": [
    "Importing required libraries"
   ]
  },
  {
   "cell_type": "code",
   "execution_count": 104,
   "metadata": {
    "collapsed": false
   },
   "outputs": [],
   "source": [
    "import pandas as pd\n",
    "import seaborn as sns\n",
    "%matplotlib inline\n",
    "import numpy as np\n",
    "from gensim.models import Word2Vec\n",
    "import warnings\n",
    "warnings.filterwarnings('ignore')\n",
    "from  nltk.tokenize  import  TweetTokenizer \n",
    "import glob\n",
    "import nltk\n",
    "import string\n",
    "import re\n",
    "import pprint\n",
    "from nltk.corpus import stopwords\n",
    "from nltk.tokenize import word_tokenize"
   ]
  },
  {
   "cell_type": "markdown",
   "metadata": {},
   "source": [
    "Reading all the csv files to create a corpus"
   ]
  },
  {
   "cell_type": "code",
   "execution_count": 179,
   "metadata": {
    "collapsed": false
   },
   "outputs": [],
   "source": [
    "allFiles = glob.glob(\"Data/*/*.csv\", recursive=True)\n",
    "frame = pd.DataFrame()\n",
    "\n",
    "# To store filenames\n",
    "filenames = []\n",
    "\n",
    "\n",
    "for file_ in allFiles:    \n",
    "    df = pd.read_csv(file_, encoding = \"ISO-8859-1\")\n",
    "    filenames.append(file_.split(\"\\\\\")[-1:][0].split(\".\")[0])\n",
    "#     print(df.head())\n",
    "    frame = pd.concat([frame,df[df.columns[1]]])"
   ]
  },
  {
   "cell_type": "code",
   "execution_count": 180,
   "metadata": {
    "collapsed": false
   },
   "outputs": [
    {
     "name": "stdout",
     "output_type": "stream",
     "text": [
      "['Data\\\\FACup.csv']\n"
     ]
    }
   ],
   "source": [
    "print(allFiles)"
   ]
  },
  {
   "cell_type": "markdown",
   "metadata": {},
   "source": [
    "Converting the corpus to lower case"
   ]
  },
  {
   "cell_type": "code",
   "execution_count": 181,
   "metadata": {
    "collapsed": false
   },
   "outputs": [],
   "source": [
    "def preprocessing(frame):\n",
    "    frame = frame.apply(lambda x: x.astype(str).str.lower())\n",
    "    frame = frame.apply(lambda x: x.astype(str).str.replace('b\\'',''))\n",
    "    frame = frame.apply(lambda x: x.astype(str).str.replace('b\\\"',''))\n",
    "    return frame"
   ]
  },
  {
   "cell_type": "code",
   "execution_count": 182,
   "metadata": {
    "collapsed": true
   },
   "outputs": [],
   "source": [
    "frame =  preprocessing(frame)"
   ]
  },
  {
   "cell_type": "code",
   "execution_count": 183,
   "metadata": {
    "collapsed": false,
    "scrolled": true
   },
   "outputs": [
    {
     "name": "stdout",
     "output_type": "stream",
     "text": [
      "                                                   0\n",
      "0   #facup rt @d_degea: wembley is so special. am...\n",
      "1   #facup rt @d_degea: wembley is so special. am...\n",
      "2   #facup rt @chrissmalling: true character to c...\n",
      "3   #facup rt @d_degea: wembley is so special. am...\n",
      "4   #facup rt @d_degea: wembley is so special. am...\n"
     ]
    }
   ],
   "source": [
    "print(frame.head())"
   ]
  },
  {
   "cell_type": "markdown",
   "metadata": {},
   "source": [
    "Function to build stopwords to remove them"
   ]
  },
  {
   "cell_type": "code",
   "execution_count": 184,
   "metadata": {
    "collapsed": false
   },
   "outputs": [],
   "source": [
    "def build_stopwords(): \n",
    "    stop_words = (stopwords.words('english'))\n",
    "\n",
    "    list_remove = ['.','/','b\\'','b\\\"','xe2','x80','xa6','x99t','x99s','x87','xb4','xaa','x9a','x9b','x93','xb2','x8c','x9c','xb5','xab']\n",
    "\n",
    "    stop_words = stop_words +  word_tokenize(string.punctuation) + list_remove\n",
    "\n",
    "    return stop_words\n",
    "#     print(stop_words)"
   ]
  },
  {
   "cell_type": "markdown",
   "metadata": {},
   "source": [
    "Removing stop words and building a corpus"
   ]
  },
  {
   "cell_type": "code",
   "execution_count": 185,
   "metadata": {
    "collapsed": false
   },
   "outputs": [],
   "source": [
    "corpus = []\n",
    "tknzr  =  TweetTokenizer () \n",
    "stop_words = build_stopwords()\n",
    "\n",
    "for row in frame[frame.columns[0]]:\n",
    "#     print (row)\n",
    "#     tweet = []    \n",
    "#     tweet.append( )\n",
    "#     print (tweet)\n",
    "#     Removing urls which can be noise\n",
    "    row = re.sub(r'https?:\\/\\/.*[\\r\\n]*', '', row)\n",
    "    word_tokens = tknzr.tokenize(row)\n",
    "#     Removing stop words\n",
    "    filtered_sentence = [w for w in word_tokens if not w in stop_words]    \n",
    "    corpus.append(filtered_sentence)"
   ]
  },
  {
   "cell_type": "code",
   "execution_count": 186,
   "metadata": {
    "collapsed": false
   },
   "outputs": [
    {
     "name": "stdout",
     "output_type": "stream",
     "text": [
      "[['#facup', 'rt', '@d_degea', 'wembley', 'special', 'amazing', 'atmosphere', 'great', 'game', '...', 'final', 'xf0', 'x9f', 'x92', 'xf0', 'x9f', 'x8f', 'xbb', 'xf0', 'x9f', 'x94', 'n', 'nwembley', 'es', 'especial', 'gran', 'ambiente'], ['#facup', 'rt', '@d_degea', 'wembley', 'special', 'amazing', 'atmosphere', 'great', 'game', '...', 'final', 'xf0', 'x9f', 'x92', 'xf0', 'x9f', 'x8f', 'xbb', 'xf0', 'x9f', 'x94', 'n', 'nwembley', 'es', 'especial', 'gran', 'ambiente'], ['#facup', 'rt', '@chrissmalling', 'true', 'character', 'come', 'behind', 'make', 'sure', 'matter', 'get', 'another', 'fa', 'cup', 'final', 'proud', 'f'], ['#facup', 'rt', '@d_degea', 'wembley', 'special', 'amazing', 'atmosphere', 'great', 'game', '...', 'final', 'xf0', 'x9f', 'x92', 'xf0', 'x9f', 'x8f', 'xbb', 'xf0', 'x9f', 'x94', 'n', 'nwembley', 'es', 'especial', 'gran', 'ambiente'], ['#facup', 'rt', '@d_degea', 'wembley', 'special', 'amazing', 'atmosphere', 'great', 'game', '...', 'final', 'xf0', 'x9f', 'x92', 'xf0', 'x9f', 'x8f', 'xbb', 'xf0', 'x9f', 'x94', 'n', 'nwembley', 'es', 'especial', 'gran', 'ambiente'], ['#facup', 'rt', '@d_degea', 'wembley', 'special', 'amazing', 'atmosphere', 'great', 'game', '...', 'final', 'xf0', 'x9f', 'x92', 'xf0', 'x9f', 'x8f', 'xbb', 'xf0', 'x9f', 'x94', 'n', 'nwembley', 'es', 'especial', 'gran', 'ambiente'], ['rt', '@the_gunn_man', 'dele', 'alli', 'worst', 'dance', 'wembley', 'seen', 'since', 'bloke', '...', 'n', 'n', '#facup'], ['#facup', 'rt', '@d_degea', 'wembley', 'special', 'amazing', 'atmosphere', 'great', 'game', '...', 'final', 'xf0', 'x9f', 'x92', 'xf0', 'x9f', 'x8f', 'xbb', 'xf0', 'x9f', 'x94', 'n', 'nwembley', 'es', 'especial', 'gran', 'ambiente'], ['rt', '@thesportsman', 'xf0', 'x9f', 'x8f', 'x86', 'man', 'utd', '#facup', 'final', 'n', 'nunfortunately', 'spurs', \"can't\", 'add', 'trophy', 'collection', '...', 'n', 'n', '#muntot'], ['#facup', 'rt', '@d_degea', 'wembley', 'special', 'amazing', 'atmosphere', 'great', 'game', '...', 'final', 'xf0', 'x9f', 'x92', 'xf0', 'x9f', 'x8f', 'xbb', 'xf0', 'x9f', 'x94', 'n', 'nwembley', 'es', 'especial', 'gran', 'ambiente']]\n"
     ]
    }
   ],
   "source": [
    "print (corpus[:10])"
   ]
  },
  {
   "cell_type": "markdown",
   "metadata": {},
   "source": [
    "Building a word2vec model"
   ]
  },
  {
   "cell_type": "code",
   "execution_count": 187,
   "metadata": {
    "collapsed": false
   },
   "outputs": [
    {
     "name": "stdout",
     "output_type": "stream",
     "text": [
      "0.6757893854519352\n"
     ]
    }
   ],
   "source": [
    "import timeit\n",
    "start_time = timeit.default_timer()\n",
    "\n",
    "model = Word2Vec(corpus, size=1000, window=3, min_count=1, workers=4)\n",
    "\n",
    "elapsed = timeit.default_timer() - start_time\n",
    "\n",
    "print(elapsed)"
   ]
  },
  {
   "cell_type": "markdown",
   "metadata": {},
   "source": [
    "To validate the results from model"
   ]
  },
  {
   "cell_type": "code",
   "execution_count": 190,
   "metadata": {
    "collapsed": false
   },
   "outputs": [
    {
     "name": "stdout",
     "output_type": "stream",
     "text": [
      "Number of words in vocab = 648\n"
     ]
    }
   ],
   "source": [
    "print('Number of words in vocab = ' + str(len(model.wv.vocab)))\n",
    "# print('Similarity between woman and man = ' + str(model.wv.similarity('man', 'trump')))\n",
    "# \n",
    "# pprint.pprint(model.most_similar(\"support\"))\n"
   ]
  },
  {
   "cell_type": "markdown",
   "metadata": {},
   "source": [
    "Input by user to recommend hashtags"
   ]
  },
  {
   "cell_type": "code",
   "execution_count": 198,
   "metadata": {
    "collapsed": false
   },
   "outputs": [],
   "source": [
    "input = 'man utd victory fa cup cup win tottenham football'\n",
    "\n",
    "# input = 'tonight is the book reading sunday holiday night'"
   ]
  },
  {
   "cell_type": "code",
   "execution_count": 199,
   "metadata": {
    "collapsed": false
   },
   "outputs": [],
   "source": [
    "''' This function takes input post from the user and suggests hashtags which he can most likely relate his post with\n",
    "    It recommends hashtags based on current trending topics and post content, \n",
    "    not just with the meaning of words but also the \n",
    "    context of the words is taken into consideration\n",
    "'''\n",
    "def getHashTagSuggestion(input):\n",
    "#     Tokenizing the input\n",
    "    input = word_tokenize(input)\n",
    "#     Getting a list of hashtags from the data collected\n",
    "    file_inputs = {}\n",
    "    for file in filenames:\n",
    "        file = '#' + file.lower()\n",
    "        file_inputs[file.lower()] = file\n",
    "    \n",
    "#     Iterating to find similaity between each words of input and all hashtags\n",
    "    scores_out = []\n",
    "    for out in file_inputs.keys():\n",
    "        list_out = []\n",
    "        if(out in model.wv.vocab):\n",
    "            for word in input:    \n",
    "#             print(word)\n",
    "#             print(out)\n",
    "                if(word in model.wv.vocab): \n",
    "#                 pprint.pprint(word)\n",
    "                    list_out.append(model.similarity(word,out))\n",
    "#                 print(model.similarity(word,out))\n",
    "\n",
    "        if(len(list_out) > 0):\n",
    "            scores_out.append((out,sum(list_out) / float(len(list_out))))\n",
    "#     Returns sorted order of hashtag suggestion score\n",
    "    scores_out = sorted(scores_out, key=lambda tup: tup[1],reverse = True)\n",
    "    return scores_out"
   ]
  },
  {
   "cell_type": "code",
   "execution_count": 200,
   "metadata": {
    "collapsed": false
   },
   "outputs": [
    {
     "name": "stdout",
     "output_type": "stream",
     "text": [
      "{'#420day': '#420day', '#alboe': '#ALBOE', '#busphsymposia': '#BUSPHsymposia', '#dev4peace': '#dev4peace', '#earthday18': '#EarthDay18', '#enoughisenough': '#EnoughIsEnough', '#flashbackfriday': '#FlashbackFriday', '#foodfri': '#FoodFri', '#fridayfeeling': '#FridayFeeling', '#garyveebreakfast': '#GaryVeeBreakfast', '#greatreadpbs': '#GreatReadPBS', '#helpcopyafilm': '#HelpCopyAFilm', '#nationallookalikeday': '#NationalLookAlikeDay', '#nationalschoolwalkout': '#NationalSchoolWalkout', '#ncaagym': '#NCAAGym', '#newmusicfriday': '#NewMusicFriday', '#notearslefttocry': '#NoTearsLeftToCry', '#ringstruck4': '#RingStruck4', '#scifrilive': '#SciFriLive', '#signsyoureinmyhometown': '#SignsYoureInMyHometown', '#deepwaterhorizon': '#DeepwaterHorizon', '#four20': '#Four20', '#funfactfriday': '#FunFactFriday', '#higpa': '#HIGPA', '#labcsummit18': '#LABCSummit18', '#rstatsnyc': '#rstatsnyc', '#ucdavisgiveday': '#UCDavisGiveDay', '#universalfancon': '#UniversalFanCon', '#bbcaq': '#bbcaq', '#bbcyoungmusician': '#bbcyoungmusician', '#cityadichie': '#CityAdichie', '#colour_collective': '#colour_collective', '#cosyreadingnight': '#cosyreadingnight', '#gardenersworld': '#GardenersWorld', '#glovnew': '#GLOvNEW', '#gogglebox': '#Gogglebox', '#hignfy': '#hignfy', '#idontlikemondays': '#idontlikemondays', '#jdwpl': '#JDWPL', '#lfcu18s': '#LFCU18s', '#mcb20': '#MCB20', '#muntot': '#MUNTOT', '#mw18': '#MW18', '#nissan': '#Nissan', '#slsalwak': '#SLSalWak', '#slwigcas': '#SLWigCas', '#soldieringonawards': '#SoldieringOnAwards', '#soundslikefridaynight': '#SoundsLikeFridayNight', '#thebutton': '#TheButton', '#ukba18': '#UKBA18', '#ukyachat': '#ukyachat', '#volunteerappreciationday': '#VolunteerAppreciationDay', '#wbizawards18': '#WBizAwards18', '#weekendvibes': '#weekendvibes', '#woky': '#Woky'}\n"
     ]
    }
   ],
   "source": [
    "print (file_inputs)"
   ]
  },
  {
   "cell_type": "code",
   "execution_count": 173,
   "metadata": {
    "collapsed": false
   },
   "outputs": [
    {
     "data": {
      "text/plain": [
       "0.983841470513196"
      ]
     },
     "execution_count": 173,
     "metadata": {},
     "output_type": "execute_result"
    }
   ],
   "source": [
    "model.similarity('utd','#facup')"
   ]
  },
  {
   "cell_type": "code",
   "execution_count": 171,
   "metadata": {
    "collapsed": true
   },
   "outputs": [],
   "source": [
    "# scores_out = []"
   ]
  },
  {
   "cell_type": "markdown",
   "metadata": {},
   "source": [
    "Displaying top HashTags related to user's post"
   ]
  },
  {
   "cell_type": "code",
   "execution_count": 203,
   "metadata": {
    "collapsed": false
   },
   "outputs": [
    {
     "name": "stdout",
     "output_type": "stream",
     "text": [
      "[('#facup', 0.9790136429028582)]\n"
     ]
    }
   ],
   "source": [
    "HashTagSuggestion = []\n",
    "suggestions = getHashTagSuggestion(input)\n",
    "for out_tuple in suggestions[:5]:\n",
    "    HashTagSuggestion.append(file_inputs[out_tuple[0]])\n",
    "    \n",
    "pprint.pprint (HashTagSuggestion)"
   ]
  },
  {
   "cell_type": "markdown",
   "metadata": {},
   "source": [
    "Defining a HashTag - These words define what a particular HastTag means"
   ]
  },
  {
   "cell_type": "code",
   "execution_count": 134,
   "metadata": {
    "collapsed": false
   },
   "outputs": [
    {
     "name": "stdout",
     "output_type": "stream",
     "text": [
      "['#artwork',\n",
      " 'formula',\n",
      " 'viable',\n",
      " 'emeritus',\n",
      " '#maidenhead',\n",
      " '#raccoon',\n",
      " 'tem',\n",
      " 'milk',\n",
      " 'katelyn-kyla-peng',\n",
      " 'cobos']\n"
     ]
    }
   ],
   "source": [
    "defining_words = model.most_similar(\"#book\",topn = 10)\n",
    "pprint.pprint ([x[0] for x in defining_words[:10]])\n"
   ]
  },
  {
   "cell_type": "code",
   "execution_count": 160,
   "metadata": {
    "collapsed": false
   },
   "outputs": [
    {
     "name": "stdout",
     "output_type": "stream",
     "text": [
      "{'#facup': <gensim.models.keyedvectors.Vocab object at 0x0000023F822EC898>, 'rt': <gensim.models.keyedvectors.Vocab object at 0x0000023F822E6F98>, '@d_degea': <gensim.models.keyedvectors.Vocab object at 0x0000023F8264CA90>, 'wembley': <gensim.models.keyedvectors.Vocab object at 0x0000023F85DA44A8>, 'special': <gensim.models.keyedvectors.Vocab object at 0x0000023F822D9198>, 'amazing': <gensim.models.keyedvectors.Vocab object at 0x0000023F822D9080>, 'atmosphere': <gensim.models.keyedvectors.Vocab object at 0x0000023F822D93C8>, 'great': <gensim.models.keyedvectors.Vocab object at 0x0000023F822D9438>, 'game': <gensim.models.keyedvectors.Vocab object at 0x0000023F822D97F0>, '...': <gensim.models.keyedvectors.Vocab object at 0x0000023F822D9B38>, 'final': <gensim.models.keyedvectors.Vocab object at 0x0000023F822D9BA8>, 'xf0': <gensim.models.keyedvectors.Vocab object at 0x0000023F822D94A8>, 'x9f': <gensim.models.keyedvectors.Vocab object at 0x0000023F822D90F0>, 'x92': <gensim.models.keyedvectors.Vocab object at 0x0000023F822D92E8>, 'x8f': <gensim.models.keyedvectors.Vocab object at 0x0000023F822D94E0>, 'xbb': <gensim.models.keyedvectors.Vocab object at 0x0000023F822D9550>, 'x94': <gensim.models.keyedvectors.Vocab object at 0x0000023F822D9780>, 'n': <gensim.models.keyedvectors.Vocab object at 0x0000023F822D9A58>, 'nwembley': <gensim.models.keyedvectors.Vocab object at 0x0000023F822D9B00>, 'es': <gensim.models.keyedvectors.Vocab object at 0x0000023F822D9860>, 'especial': <gensim.models.keyedvectors.Vocab object at 0x0000023F822D9C18>, 'gran': <gensim.models.keyedvectors.Vocab object at 0x0000023F822D9C88>, 'ambiente': <gensim.models.keyedvectors.Vocab object at 0x0000023F822D9EB8>, '@chrissmalling': <gensim.models.keyedvectors.Vocab object at 0x0000023F822D9F28>, 'true': <gensim.models.keyedvectors.Vocab object at 0x0000023F822D9F98>, 'character': <gensim.models.keyedvectors.Vocab object at 0x0000023F822D9128>, 'come': <gensim.models.keyedvectors.Vocab object at 0x0000023F822D99E8>, 'behind': <gensim.models.keyedvectors.Vocab object at 0x0000023F822D9978>, 'make': <gensim.models.keyedvectors.Vocab object at 0x0000023F822D9A20>, 'sure': <gensim.models.keyedvectors.Vocab object at 0x0000023F822D9470>, 'matter': <gensim.models.keyedvectors.Vocab object at 0x0000023F822D9EF0>, 'get': <gensim.models.keyedvectors.Vocab object at 0x0000023F822D95C0>, 'another': <gensim.models.keyedvectors.Vocab object at 0x0000023F822D9630>, 'fa': <gensim.models.keyedvectors.Vocab object at 0x0000023F822D98D0>, 'cup': <gensim.models.keyedvectors.Vocab object at 0x0000023F822D9748>, 'proud': <gensim.models.keyedvectors.Vocab object at 0x0000023F822D9AC8>, 'f': <gensim.models.keyedvectors.Vocab object at 0x0000023F822D91D0>, '@the_gunn_man': <gensim.models.keyedvectors.Vocab object at 0x0000023F822D9E48>, 'dele': <gensim.models.keyedvectors.Vocab object at 0x0000023F822D9A90>, 'alli': <gensim.models.keyedvectors.Vocab object at 0x0000023F822D9240>, 'worst': <gensim.models.keyedvectors.Vocab object at 0x0000023F822D95F8>, 'dance': <gensim.models.keyedvectors.Vocab object at 0x0000023F822D9358>, 'seen': <gensim.models.keyedvectors.Vocab object at 0x0000023F822D9710>, 'since': <gensim.models.keyedvectors.Vocab object at 0x0000023F822D9048>, 'bloke': <gensim.models.keyedvectors.Vocab object at 0x0000023F822D9588>, '@thesportsman': <gensim.models.keyedvectors.Vocab object at 0x0000023F822D9908>, 'x86': <gensim.models.keyedvectors.Vocab object at 0x0000023F822D9C50>, 'man': <gensim.models.keyedvectors.Vocab object at 0x0000023F822D9CF8>, 'utd': <gensim.models.keyedvectors.Vocab object at 0x0000023F822D9208>, 'nunfortunately': <gensim.models.keyedvectors.Vocab object at 0x0000023F822D9278>, 'spurs': <gensim.models.keyedvectors.Vocab object at 0x0000023F822D9D30>, \"can't\": <gensim.models.keyedvectors.Vocab object at 0x0000023F822D9CC0>, 'add': <gensim.models.keyedvectors.Vocab object at 0x0000023F822D9DD8>, 'trophy': <gensim.models.keyedvectors.Vocab object at 0x0000023F822D9BE0>, 'collection': <gensim.models.keyedvectors.Vocab object at 0x0000023F822D96A0>, '#muntot': <gensim.models.keyedvectors.Vocab object at 0x0000023F822D9828>, '@manutd': <gensim.models.keyedvectors.Vocab object at 0x0000023F822EB0B8>, 'fans': <gensim.models.keyedvectors.Vocab object at 0x0000023F822EB3C8>, 'saying': <gensim.models.keyedvectors.Vocab object at 0x0000023F822EB390>, '@alexis_sanchez': <gensim.models.keyedvectors.Vocab object at 0x0000023F822EB518>, 'paid': <gensim.models.keyedvectors.Vocab object at 0x0000023F822EB2B0>, 'much': <gensim.models.keyedvectors.Vocab object at 0x0000023F822EB4A8>, 'money': <gensim.models.keyedvectors.Vocab object at 0x0000023F822EB4E0>, 'perform': <gensim.models.keyedvectors.Vocab object at 0x0000023F822EB7B8>, 'big': <gensim.models.keyedvectors.Vocab object at 0x0000023F822EB208>, 'games': <gensim.models.keyedvectors.Vocab object at 0x0000023F822EB048>, 'records': <gensim.models.keyedvectors.Vocab object at 0x0000023F822EB7F0>, 'two': <gensim.models.keyedvectors.Vocab object at 0x0000023F822EB668>, 'best': <gensim.models.keyedvectors.Vocab object at 0x0000023F822EB0F0>, 'clubs': <gensim.models.keyedvectors.Vocab object at 0x0000023F822EB1D0>, \"competition's\": <gensim.models.keyedvectors.Vocab object at 0x0000023F822EB780>, 'history': <gensim.models.keyedvectors.Vocab object at 0x0000023F822EB860>, '@arsenal': <gensim.models.keyedvectors.Vocab object at 0x0000023F822EB588>, 'nrecord': <gensim.models.keyedvectors.Vocab object at 0x0000023F822EB5F8>, '#afc': <gensim.models.keyedvectors.Vocab object at 0x0000023F822EB128>, '#mufc': <gensim.models.keyedvectors.Vocab object at 0x0000023F822EB470>, 'nwinne': <gensim.models.keyedvectors.Vocab object at 0x0000023F822EB550>, '@rioferdy5': <gensim.models.keyedvectors.Vocab object at 0x0000023F822EB278>, 'moment': <gensim.models.keyedvectors.Vocab object at 0x0000023F822EB940>, 'ya': <gensim.models.keyedvectors.Vocab object at 0x0000023F822EBA58>, 'check': <gensim.models.keyedvectors.Vocab object at 0x0000023F822EB828>, 'ur': <gensim.models.keyedvectors.Vocab object at 0x0000023F822EBBE0>, 'watch': <gensim.models.keyedvectors.Vocab object at 0x0000023F822EBF98>, 'see': <gensim.models.keyedvectors.Vocab object at 0x0000023F822EB8D0>, '@manchesterunited': <gensim.models.keyedvectors.Vocab object at 0x0000023F822EB2E8>, '2-1': <gensim.models.keyedvectors.Vocab object at 0x0000023F822EB438>, 'x91': <gensim.models.keyedvectors.Vocab object at 0x0000023F822EB198>, 'x8a': <gensim.models.keyedvectors.Vocab object at 0x0000023F822EBB38>, 'xbd': <gensim.models.keyedvectors.Vocab object at 0x0000023F822EB710>, 'xef': <gensim.models.keyedvectors.Vocab object at 0x0000023F822EB080>, 'xb8': <gensim.models.keyedvectors.Vocab object at 0x0000023F822EBC88>, 'deal': <gensim.models.keyedvectors.Vocab object at 0x0000023F822EBC18>, 'pride': <gensim.models.keyedvectors.Vocab object at 0x0000023F822EBD68>, '#wembley': <gensim.models.keyedvectors.Vocab object at 0x0000023F822EBEF0>, '@atpradio': <gensim.models.keyedvectors.Vocab object at 0x0000023F822EB908>, 'backpack': <gensim.models.keyedvectors.Vocab object at 0x0000023F822EBCC0>, 'kid': <gensim.models.keyedvectors.Vocab object at 0x0000023F822EBF28>, 'celebration': <gensim.models.keyedvectors.Vocab object at 0x0000023F822EBBA8>, '#totmun': <gensim.models.keyedvectors.Vocab object at 0x0000023F822EBE10>, '@asimazharr': <gensim.models.keyedvectors.Vocab object at 0x0000023F822EBF60>, 'united': <gensim.models.keyedvectors.Vocab object at 0x0000023F822EB898>, 'name': <gensim.models.keyedvectors.Vocab object at 0x0000023F822EB748>, 'england': <gensim.models.keyedvectors.Vocab object at 0x0000023F822EBA90>, 'red': <gensim.models.keyedvectors.Vocab object at 0x0000023F822EBDA0>, '#final': <gensim.models.keyedvectors.Vocab object at 0x0000023F822EBCF8>, '#wearegoingtowembley': <gensim.models.keyedvectors.Vocab object at 0x0000023F822EB358>, 'congratulations': <gensim.models.keyedvectors.Vocab object at 0x0000023F822EB9E8>, 'really': <gensim.models.keyedvectors.Vocab object at 0x0000023F822EBFD0>, 'know': <gensim.models.keyedvectors.Vocab object at 0x0000023F822EBE48>, 'slow': <gensim.models.keyedvectors.Vocab object at 0x0000023F822EB630>, 'destroy': <gensim.models.keyedvectors.Vocab object at 0x0000023F822EBDD8>, 'sign': <gensim.models.keyedvectors.Vocab object at 0x0000023F822EBE80>, 'football': <gensim.models.keyedvectors.Vocab object at 0x0000023F822EB5C0>, 'breaking': <gensim.models.keyedvectors.Vocab object at 0x0000023F822EB9B0>, 'davide': <gensim.models.keyedvectors.Vocab object at 0x0000023F822EB6D8>, 'zappacosta': <gensim.models.keyedvectors.Vocab object at 0x0000023F822EBA20>, 'set': <gensim.models.keyedvectors.Vocab object at 0x0000023F822D21D0>, 'start': <gensim.models.keyedvectors.Vocab object at 0x0000023F822D2278>, 'instead': <gensim.models.keyedvectors.Vocab object at 0x0000023F822D2128>, 'emerson': <gensim.models.keyedvectors.Vocab object at 0x0000023F822D2198>, 'palmieri': <gensim.models.keyedvectors.Vocab object at 0x0000023F822D27F0>, 'southampton': <gensim.models.keyedvectors.Vocab object at 0x0000023F822D2898>, 'tomorrow': <gensim.models.keyedvectors.Vocab object at 0x0000023F822D28D0>, 'acc': <gensim.models.keyedvectors.Vocab object at 0x0000023F822D2908>, 'daily': <gensim.models.keyedvectors.Vocab object at 0x0000023F822D2A20>, 'mail': <gensim.models.keyedvectors.Vocab object at 0x0000023F822D2208>, '#cfc': <gensim.models.keyedvectors.Vocab object at 0x0000023F822D2390>, '@henrywinter': <gensim.models.keyedvectors.Vocab object at 0x0000023F822D26A0>, 'easy': <gensim.models.keyedvectors.Vocab object at 0x0000023F822D2438>, 'many': <gensim.models.keyedvectors.Vocab object at 0x0000023F822D22B0>, 'manchester': <gensim.models.keyedvectors.Vocab object at 0x0000023F822D24A8>, 'love': <gensim.models.keyedvectors.Vocab object at 0x0000023F822D2780>, 'ander': <gensim.models.keyedvectors.Vocab object at 0x0000023F822D2080>, 'herrera': <gensim.models.keyedvectors.Vocab object at 0x0000023F822D2160>, 'win': <gensim.models.keyedvectors.Vocab object at 0x0000023F822D2B38>, 'total': <gensim.models.keyedvectors.Vocab object at 0x0000023F822D29B0>, 'commitment': <gensim.models.keyedvectors.Vocab object at 0x0000023F822D24E0>, 'passion': <gensim.models.keyedvectors.Vocab object at 0x0000023F822D25F8>, 'cause': <gensim.models.keyedvectors.Vocab object at 0x0000023F822D2B70>, 'weatherspoons': <gensim.models.keyedvectors.Vocab object at 0x0000023F822D2470>, '9am': <gensim.models.keyedvectors.Vocab object at 0x0000023F822D2A90>, '9:55': <gensim.models.keyedvectors.Vocab object at 0x0000023F822D2DA0>, 'train': <gensim.models.keyedvectors.Vocab object at 0x0000023F822D2AC8>, 'x82': <gensim.models.keyedvectors.Vocab object at 0x0000023F822D2978>, '#semifinal': <gensim.models.keyedvectors.Vocab object at 0x0000023F822D2E10>, '#sundayfunday': <gensim.models.keyedvectors.Vocab object at 0x0000023F822D2F98>, 'yes': <gensim.models.keyedvectors.Vocab object at 0x0000023F822D27B8>, 'official': <gensim.models.keyedvectors.Vocab object at 0x0000023F822D2828>, 'handle': <gensim.models.keyedvectors.Vocab object at 0x0000023F822D2400>, '@optajoe': <gensim.models.keyedvectors.Vocab object at 0x0000023F822D2748>, '29': <gensim.models.keyedvectors.Vocab object at 0x0000023F822D2EF0>, '-': <gensim.models.keyedvectors.Vocab object at 0x0000023F822D2588>, 'reached': <gensim.models.keyedvectors.Vocab object at 0x0000023F822D2BA8>, '29th': <gensim.models.keyedvectors.Vocab object at 0x0000023F822D2C18>, 'major': <gensim.models.keyedvectors.Vocab object at 0x0000023F822D2048>, 'domestic': <gensim.models.keyedvectors.Vocab object at 0x0000023F822D2A58>, '20': <gensim.models.keyedvectors.Vocab object at 0x0000023F822D2B00>, '9': <gensim.models.keyedvectors.Vocab object at 0x0000023F822D2E80>, 'league': <gensim.models.keyedvectors.Vocab object at 0x0000023F822D2C50>, 'side': <gensim.models.keyedvectors.Vocab object at 0x0000023F822D2D68>, 'english': <gensim.models.keyedvectors.Vocab object at 0x0000023F822D2F28>, '@believecfc': <gensim.models.keyedvectors.Vocab object at 0x0000023F822D2C88>, 'think': <gensim.models.keyedvectors.Vocab object at 0x0000023F822D2860>, 'people': <gensim.models.keyedvectors.Vocab object at 0x0000023F822D2E48>, 'fan': <gensim.models.keyedvectors.Vocab object at 0x0000023F822D20F0>, 'reacting': <gensim.models.keyedvectors.Vocab object at 0x0000023F822D2CC0>, 'ponchettino': <gensim.models.keyedvectors.Vocab object at 0x0000023F822D2BE0>, 'consistently': <gensim.models.keyedvectors.Vocab object at 0x0000023F822D50B8>, 'reaching': <gensim.models.keyedvectors.Vocab object at 0x0000023F822D5358>, '#spursy': <gensim.models.keyedvectors.Vocab object at 0x0000023F822D54E0>, 'team': <gensim.models.keyedvectors.Vocab object at 0x0000023F822D5518>, '@bbcmotd': <gensim.models.keyedvectors.Vocab object at 0x0000023F822D55C0>, 'loves': <gensim.models.keyedvectors.Vocab object at 0x0000023F822D5048>, 'club': <gensim.models.keyedvectors.Vocab object at 0x0000023F822D5278>, '@redvin8': <gensim.models.keyedvectors.Vocab object at 0x0000023F822D5240>, 'never': <gensim.models.keyedvectors.Vocab object at 0x0000023F822D5198>, 'boooom': <gensim.models.keyedvectors.Vocab object at 0x0000023F822D5470>, 'work': <gensim.models.keyedvectors.Vocab object at 0x0000023F822D5588>, 'pogba': <gensim.models.keyedvectors.Vocab object at 0x0000023F822D57B8>, 'caressed': <gensim.models.keyedvectors.Vocab object at 0x0000023F822D5908>, 'header': <gensim.models.keyedvectors.Vocab object at 0x0000023F822D5978>, 'sanchez': <gensim.models.keyedvectors.Vocab object at 0x0000023F822D5208>, '@manutdinpidgin': <gensim.models.keyedvectors.Vocab object at 0x0000023F822D51D0>, 'dey': <gensim.models.keyedvectors.Vocab object at 0x0000023F822D5780>, 'play': <gensim.models.keyedvectors.Vocab object at 0x0000023F822D5B00>, 'wen': <gensim.models.keyedvectors.Vocab object at 0x0000023F822D57F0>, 'score': <gensim.models.keyedvectors.Vocab object at 0x0000023F822D59B0>, 'else': <gensim.models.keyedvectors.Vocab object at 0x0000023F822D59E8>, 'e': <gensim.models.keyedvectors.Vocab object at 0x0000023F822D5A20>, 'go': <gensim.models.keyedvectors.Vocab object at 0x0000023F822D55F8>, 'backfire': <gensim.models.keyedvectors.Vocab object at 0x0000023F822D5C50>, 'x98': <gensim.models.keyedvectors.Vocab object at 0x0000023F822D5A58>, 'collect': <gensim.models.keyedvectors.Vocab object at 0x0000023F822D5D68>, 'ball': <gensim.models.keyedvectors.Vocab object at 0x0000023F822D58D0>, 'u-turn': <gensim.models.keyedvectors.Vocab object at 0x0000023F822D5E48>, 'roundabout': <gensim.models.keyedvectors.Vocab object at 0x0000023F822D5EF0>, 'con': <gensim.models.keyedvectors.Vocab object at 0x0000023F822D5CC0>, 'square': <gensim.models.keyedvectors.Vocab object at 0x0000023F822D5128>, 'low': <gensim.models.keyedvectors.Vocab object at 0x0000023F822D5668>, 'inside': <gensim.models.keyedvectors.Vocab object at 0x0000023F822D5080>, 'box': <gensim.models.keyedvectors.Vocab object at 0x0000023F822D5748>, 'lukaku': <gensim.models.keyedvectors.Vocab object at 0x0000023F822D5898>, 'wan': <gensim.models.keyedvectors.Vocab object at 0x0000023F822D52B0>, 'shoot': <gensim.models.keyedvectors.Vocab object at 0x0000023F822D5E10>, 'miss': <gensim.models.keyedvectors.Vocab object at 0x0000023F822D5F60>, 'due': <gensim.models.keyedvectors.Vocab object at 0x0000023F822D5400>, 'alexis': <gensim.models.keyedvectors.Vocab object at 0x0000023F822D5828>, 'x99': <gensim.models.keyedvectors.Vocab object at 0x0000023F822D5860>, 'xa5': <gensim.models.keyedvectors.Vocab object at 0x0000023F822D5940>, '@coachpetequinn': <gensim.models.keyedvectors.Vocab object at 0x0000023F822D56A0>, 'opponents': <gensim.models.keyedvectors.Vocab object at 0x0000023F822D5DD8>, 'learn': <gensim.models.keyedvectors.Vocab object at 0x0000023F822D5EB8>, 'good': <gensim.models.keyedvectors.Vocab object at 0x0000023F822D5CF8>, 'idea': <gensim.models.keyedvectors.Vocab object at 0x0000023F822D5F98>, 'celebrate': <gensim.models.keyedvectors.Vocab object at 0x0000023F822D5DA0>, 'goals': <gensim.models.keyedvectors.Vocab object at 0x0000023F822D5D30>, 'move': <gensim.models.keyedvectors.Vocab object at 0x0000023F822D5C88>, '#ggmu': <gensim.models.keyedvectors.Vocab object at 0x0000023F822D5320>, '\"': <gensim.models.keyedvectors.Vocab object at 0x0000023F822D54A8>, '@kamaz_halil': <gensim.models.keyedvectors.Vocab object at 0x0000023F822D5A90>, 'torture': <gensim.models.keyedvectors.Vocab object at 0x0000023F822D5710>, 'nwhere': <gensim.models.keyedvectors.Vocab object at 0x0000023F822D5160>, '@ap': <gensim.models.keyedvectors.Vocab object at 0x0000023F822D5390>, '@commissionerhr': <gensim.models.keyedvectors.Vocab object at 0x0000023F822D5F28>, '@humanrightsctte': <gensim.models.keyedvectors.Vocab object at 0x0000023F822D53C8>, '@hrw': <gensim.models.keyedvectors.Vocab object at 0x0000023F822D5E80>, '@eu_commission': <gensim.models.keyedvectors.Vocab object at 0x0000023F822D5BE0>, '@eucouncilpress': <gensim.models.keyedvectors.Vocab object at 0x0000023F822E4048>, '@e': <gensim.models.keyedvectors.Vocab object at 0x0000023F822E41D0>, '@greasysplendid': <gensim.models.keyedvectors.Vocab object at 0x0000023F822E40B8>, 'cottenham': <gensim.models.keyedvectors.Vocab object at 0x0000023F822E4128>, 'fotspur': <gensim.models.keyedvectors.Vocab object at 0x0000023F822E4278>, 'hootball': <gensim.models.keyedvectors.Vocab object at 0x0000023F822E4208>, 'tlub': <gensim.models.keyedvectors.Vocab object at 0x0000023F822E4668>, '@flexunitedstand': <gensim.models.keyedvectors.Vocab object at 0x0000023F822E4748>, 'yesssssss': <gensim.models.keyedvectors.Vocab object at 0x0000023F822E4390>, 'absolute': <gensim.models.keyedvectors.Vocab object at 0x0000023F822E44E0>, 'scenes': <gensim.models.keyedvectors.Vocab object at 0x0000023F822E49E8>, 'today': <gensim.models.keyedvectors.Vocab object at 0x0000023F822E47F0>, '#manutd': <gensim.models.keyedvectors.Vocab object at 0x0000023F822E46A0>, 'trend': <gensim.models.keyedvectors.Vocab object at 0x0000023F822E4400>, 'alert': <gensim.models.keyedvectors.Vocab object at 0x0000023F822E4198>, 'trends': <gensim.models.keyedvectors.Vocab object at 0x0000023F822E4550>, 'way': <gensim.models.keyedvectors.Vocab object at 0x0000023F822E4710>, 'maazi': <gensim.models.keyedvectors.Vocab object at 0x0000023F822E4898>, 'take': <gensim.models.keyedvectors.Vocab object at 0x0000023F822E47B8>, 'bully': <gensim.models.keyedvectors.Vocab object at 0x0000023F822E4320>, 'almighty': <gensim.models.keyedvectors.Vocab object at 0x0000023F822E4DA0>, 'dembele': <gensim.models.keyedvectors.Vocab object at 0x0000023F822E45F8>, 'xa4': <gensim.models.keyedvectors.Vocab object at 0x0000023F822E4908>, 'xa7': <gensim.models.keyedvectors.Vocab object at 0x0000023F822E4518>, 'twitter': <gensim.models.keyedvectors.Vocab object at 0x0000023F822E4A90>, 'n2018': <gensim.models.keyedvectors.Vocab object at 0x0000023F822E4DD8>, '-04-22': <gensim.models.keyedvectors.Vocab object at 0x0000023F822E4358>, '04:00': <gensim.models.keyedvectors.Vocab object at 0x0000023F822E46D8>, '01': <gensim.models.keyedvectors.Vocab object at 0x0000023F822E4470>, 'n1': <gensim.models.keyedvectors.Vocab object at 0x0000023F822E4B70>, '#wakeup': <gensim.models.keyedvectors.Vocab object at 0x0000023F822E4828>, 'xe0': <gensim.models.keyedvectors.Vocab object at 0x0000023F822E4C50>, 'xb0': <gensim.models.keyedvectors.Vocab object at 0x0000023F822E45C0>, 'n2': <gensim.models.keyedvectors.Vocab object at 0x0000023F822E4EB8>, 'n3': <gensim.models.keyedvectors.Vocab object at 0x0000023F822E4F60>, '#produce101china': <gensim.models.keyedvectors.Vocab object at 0x0000023F822E4F98>, 'n4': <gensim.models.keyedvectors.Vocab object at 0x0000023F822E4A20>, '#20thmostataconcert': <gensim.models.keyedvectors.Vocab object at 0x0000023F822E4AC8>, 'n5': <gensim.models.keyedvectors.Vocab object at 0x0000023F822E4860>, 'xb9': <gensim.models.keyedvectors.Vocab object at 0x0000023F822E4A58>, 'x95': <gensim.models.keyedvectors.Vocab object at 0x0000023F822E4CF8>, 'x81': <gensim.models.keyedvectors.Vocab object at 0x0000023F822E4EF0>, '#tottenham': <gensim.models.keyedvectors.Vocab object at 0x0000023F84E0FA90>, 'made': <gensim.models.keyedvectors.Vocab object at 0x0000023F84E0FAC8>, 'eight': <gensim.models.keyedvectors.Vocab object at 0x0000023F84E0F978>, 'semi-final': <gensim.models.keyedvectors.Vocab object at 0x0000023F84E0F940>, 'defeats': <gensim.models.keyedvectors.Vocab object at 0x0000023F84E0FB38>, 'row': <gensim.models.keyedvectors.Vocab object at 0x0000023F84E0FA20>, 'let': <gensim.models.keyedvectors.Vocab object at 0x0000023F84E0FC50>, '1-0': <gensim.models.keyedvectors.Vocab object at 0x0000023F84E0F898>, 'lead': <gensim.models.keyedvectors.Vocab object at 0x0000023F84E0FB70>, 'slip': <gensim.models.keyedvectors.Vocab object at 0x0000023F84E0FBA8>, 'means': <gensim.models.keyedvectors.Vocab object at 0x0000023F84E0FBE0>, 'goodnight': <gensim.models.keyedvectors.Vocab object at 0x0000023F84E0FC18>, 'chels': <gensim.models.keyedvectors.Vocab object at 0x0000023F84E0F908>, '#conte': <gensim.models.keyedvectors.Vocab object at 0x0000023F84E0FC88>, '#chelsea': <gensim.models.keyedvectors.Vocab object at 0x0000023F84E0FCF8>, '#chelseafc': <gensim.models.keyedvectors.Vocab object at 0x0000023F84E0FCC0>, '#hazard': <gensim.models.keyedvectors.Vocab object at 0x0000023F84E0FD30>, 'ncaption': <gensim.models.keyedvectors.Vocab object at 0x0000023F84E0FE48>, 'time': <gensim.models.keyedvectors.Vocab object at 0x0000023F84E0FE80>, '@bbcsport': <gensim.models.keyedvectors.Vocab object at 0x0000023F84E0FEB8>, 'goal': <gensim.models.keyedvectors.Vocab object at 0x0000023F84E0FF28>, '1-1': <gensim.models.keyedvectors.Vocab object at 0x0000023F84E0FF60>, 'tottenham': <gensim.models.keyedvectors.Vocab object at 0x0000023F84E0FFD0>, 'nalexis': <gensim.models.keyedvectors.Vocab object at 0x0000023F84E0FF98>, 'levels': <gensim.models.keyedvectors.Vocab object at 0x0000023F84E0FDA0>, 'cool': <gensim.models.keyedvectors.Vocab object at 0x0000023F84E0FDD8>, 'nlive': <gensim.models.keyedvectors.Vocab object at 0x0000023F84E0FEF0>, 'stadium': <gensim.models.keyedvectors.Vocab object at 0x0000023F84E0FD68>, '#manchesterunited': <gensim.models.keyedvectors.Vocab object at 0x0000023F8647C630>, '@psychocesc': <gensim.models.keyedvectors.Vocab object at 0x0000023F8647CB00>, 'mourinho': <gensim.models.keyedvectors.Vocab object at 0x0000023F8647CF98>, 'n2015': <gensim.models.keyedvectors.Vocab object at 0x0000023F8647C828>, 'wins': <gensim.models.keyedvectors.Vocab object at 0x0000023F8647C9B0>, 'n2016': <gensim.models.keyedvectors.Vocab object at 0x0000023F8647CBA8>, 'gets': <gensim.models.keyedvectors.Vocab object at 0x0000023F8647C400>, 'sacked': <gensim.models.keyedvectors.Vocab object at 0x0000023F8647CE10>, 'summer': <gensim.models.keyedvectors.Vocab object at 0x0000023F8647CE48>, 'takes': <gensim.models.keyedvectors.Vocab object at 0x0000023F8647C588>, 'break': <gensim.models.keyedvectors.Vocab object at 0x0000023F8647C2E8>, 'spring': <gensim.models.keyedvectors.Vocab object at 0x0000023F8647CA90>, 'comes': <gensim.models.keyedvectors.Vocab object at 0x0000023F8647C518>, 'back': <gensim.models.keyedvectors.Vocab object at 0x0000023F8647C940>, 'manage': <gensim.models.keyedvectors.Vocab object at 0x0000023F85389AC8>, 'n2017': <gensim.models.keyedvectors.Vocab object at 0x0000023F85389748>, '@lawtop20': <gensim.models.keyedvectors.Vocab object at 0x0000023F853896A0>, 'going': <gensim.models.keyedvectors.Vocab object at 0x0000023F85389A58>, 'well': <gensim.models.keyedvectors.Vocab object at 0x0000023F85389F28>, 'done': <gensim.models.keyedvectors.Vocab object at 0x0000023F85389EB8>, 'titles': <gensim.models.keyedvectors.Vocab object at 0x0000023F85389DD8>, '@man_utd_views': <gensim.models.keyedvectors.Vocab object at 0x0000023F85389E48>, '@5livesport': <gensim.models.keyedvectors.Vocab object at 0x0000023F85389B00>, '1993': <gensim.models.keyedvectors.Vocab object at 0x0000023F85389208>, 'l': <gensim.models.keyedvectors.Vocab object at 0x0000023F85389E10>, '0-1': <gensim.models.keyedvectors.Vocab object at 0x0000023F85389F60>, 'v': <gensim.models.keyedvectors.Vocab object at 0x0000023F853896D8>, 'arsenal': <gensim.models.keyedvectors.Vocab object at 0x0000023F822E4FD0>, 'n1995': <gensim.models.keyedvectors.Vocab object at 0x0000023F822E4BA8>, '1-4': <gensim.models.keyedvectors.Vocab object at 0x0000023F822E4F28>, 'everton': <gensim.models.keyedvectors.Vocab object at 0x0000023F822E48D0>, 'n1999': <gensim.models.keyedvectors.Vocab object at 0x0000023F822E40F0>, '0-2': <gensim.models.keyedvectors.Vocab object at 0x0000023F822E4C18>, 'newcastle': <gensim.models.keyedvectors.Vocab object at 0x0000023F822E4D30>, 'aet': <gensim.models.keyedvectors.Vocab object at 0x0000023F822E4630>, 'n2001': <gensim.models.keyedvectors.Vocab object at 0x0000023F822E4438>, '1-2': <gensim.models.keyedvectors.Vocab object at 0x0000023F822E4E48>, 'n2010': <gensim.models.keyedvectors.Vocab object at 0x0000023F822E4BE0>, 'portsmouth': <gensim.models.keyedvectors.Vocab object at 0x0000023F822E4E10>, '@youssuf69497918': <gensim.models.keyedvectors.Vocab object at 0x0000023F822E4978>, 'x88': <gensim.models.keyedvectors.Vocab object at 0x0000023F822E4B38>, 'x9d': <gensim.models.keyedvectors.Vocab object at 0x0000023F822DD278>, '#emiratesfacup': <gensim.models.keyedvectors.Vocab object at 0x0000023F822DD518>, '#facupsemifinals': <gensim.models.keyedvectors.Vocab object at 0x0000023F822DD4A8>, 'stream': <gensim.models.keyedvectors.Vocab object at 0x0000023F822DD4E0>, '#sanchez': <gensim.models.keyedvectors.Vocab object at 0x0000023F822DD128>, '#herrera': <gensim.models.keyedvectors.Vocab object at 0x0000023F822DD390>, 'htt': <gensim.models.keyedvectors.Vocab object at 0x0000023F822DD780>, '@historysport_': <gensim.models.keyedvectors.Vocab object at 0x0000023F822DD550>, 'smalling': <gensim.models.keyedvectors.Vocab object at 0x0000023F822DD588>, 'jones': <gensim.models.keyedvectors.Vocab object at 0x0000023F822DD9E8>, 'kane': <gensim.models.keyedvectors.Vocab object at 0x0000023F822DD3C8>, '@ifrha3': <gensim.models.keyedvectors.Vocab object at 0x0000023F822DD438>, 'scorer': <gensim.models.keyedvectors.Vocab object at 0x0000023F822DD358>, 'winning': <gensim.models.keyedvectors.Vocab object at 0x0000023F822DD240>, 'sends': <gensim.models.keyedvectors.Vocab object at 0x0000023F822DD860>, 'us': <gensim.models.keyedvectors.Vocab object at 0x0000023F822DDC50>, '@ander': <gensim.models.keyedvectors.Vocab object at 0x0000023F822DDCC0>, '@theblues___': <gensim.models.keyedvectors.Vocab object at 0x0000023F822DD5C0>, 'puts': <gensim.models.keyedvectors.Vocab object at 0x0000023F822DD320>, 'nwatch': <gensim.models.keyedvectors.Vocab object at 0x0000023F822DD6A0>, 'gives': <gensim.models.keyedvectors.Vocab object at 0x0000023F822DD470>, '@munitedgirl': <gensim.models.keyedvectors.Vocab object at 0x0000023F822DD898>, 'someone': <gensim.models.keyedvectors.Vocab object at 0x0000023F822DD7F0>, 'getting': <gensim.models.keyedvectors.Vocab object at 0x0000023F822DD080>, 'sack': <gensim.models.keyedvectors.Vocab object at 0x0000023F822DD8D0>, 'morning': <gensim.models.keyedvectors.Vocab object at 0x0000023F822DD2E8>, 'hope': <gensim.models.keyedvectors.Vocab object at 0x0000023F822DD668>, 'lad': <gensim.models.keyedvectors.Vocab object at 0x0000023F822DDBE0>, 'attitude': <gensim.models.keyedvectors.Vocab object at 0x0000023F822DDEB8>, 'players': <gensim.models.keyedvectors.Vocab object at 0x0000023F822DDEF0>, 'focused': <gensim.models.keyedvectors.Vocab object at 0x0000023F822DDF28>, 'ready': <gensim.models.keyedvectors.Vocab object at 0x0000023F822DDF98>, 'helped': <gensim.models.keyedvectors.Vocab object at 0x0000023F822DDE10>, 'confiden': <gensim.models.keyedvectors.Vocab object at 0x0000023F822DD2B0>, 'emirates': <gensim.models.keyedvectors.Vocab object at 0x0000023F822DD400>, 'semi': <gensim.models.keyedvectors.Vocab object at 0x0000023F822DDBA8>, 'defeat': <gensim.models.keyedvectors.Vocab object at 0x0000023F822DDCF8>, 'read': <gensim.models.keyedvectors.Vocab object at 0x0000023F822DDD30>, 'full': <gensim.models.keyedvectors.Vocab object at 0x0000023F822DD9B0>, 'story': <gensim.models.keyedvectors.Vocab object at 0x0000023F822DDDD8>, ':\\\\': <gensim.models.keyedvectors.Vocab object at 0x0000023F822DD748>, 'prou': <gensim.models.keyedvectors.Vocab object at 0x0000023F822DDB70>, '@reshmintv': <gensim.models.keyedvectors.Vocab object at 0x0000023F822DD828>, 'post-match': <gensim.models.keyedvectors.Vocab object at 0x0000023F822DD978>, 'mauricio': <gensim.models.keyedvectors.Vocab object at 0x0000023F822DDF60>, 'pochettino': <gensim.models.keyedvectors.Vocab object at 0x0000023F822DD908>, 'admits': <gensim.models.keyedvectors.Vocab object at 0x0000023F822DDE48>, 'x9csomething': <gensim.models.keyedvectors.Vocab object at 0x0000023F822DDE80>, 'missing': <gensim.models.keyedvectors.Vocab object at 0x0000023F822DDC18>, 'experience': <gensim.models.keyedvectors.Vocab object at 0x0000023F822DDDA0>, 'hel': <gensim.models.keyedvectors.Vocab object at 0x0000023F822DDA58>, 'one': <gensim.models.keyedvectors.Vocab object at 0x0000023F822DDB00>, 'match': <gensim.models.keyedvectors.Vocab object at 0x0000023F822E1048>, 'away': <gensim.models.keyedvectors.Vocab object at 0x0000023F822E1240>, '..': <gensim.models.keyedvectors.Vocab object at 0x0000023F822E1160>, 'whattay': <gensim.models.keyedvectors.Vocab object at 0x0000023F822E1278>, 'performance': <gensim.models.keyedvectors.Vocab object at 0x0000023F822E1588>, 'devils': <gensim.models.keyedvectors.Vocab object at 0x0000023F822E12E8>, '#muvstot': <gensim.models.keyedvectors.Vocab object at 0x0000023F822E11D0>, '@siriusxmfc': <gensim.models.keyedvectors.Vocab object at 0x0000023F822E1518>, '@briandunseth': <gensim.models.keyedvectors.Vocab object at 0x0000023F822E1400>, '@tmeola1': <gensim.models.keyedvectors.Vocab object at 0x0000023F822E10F0>, '@tommysmythespn': <gensim.models.keyedvectors.Vocab object at 0x0000023F822E1128>, '@rodneymarsh10': <gensim.models.keyedvectors.Vocab object at 0x0000023F822E1080>, '@davisjsn': <gensim.models.keyedvectors.Vocab object at 0x0000023F822E14A8>, 'ok': <gensim.models.keyedvectors.Vocab object at 0x0000023F822E15F8>, 'american': <gensim.models.keyedvectors.Vocab object at 0x0000023F822E1438>, 'wi': <gensim.models.keyedvectors.Vocab object at 0x0000023F822E1358>, '@afc1niki': <gensim.models.keyedvectors.Vocab object at 0x0000023F822E1470>, 'x8e': <gensim.models.keyedvectors.Vocab object at 0x0000023F822E16A0>, 'xb6': <gensim.models.keyedvectors.Vocab object at 0x0000023F822E1780>, 'xb6it': <gensim.models.keyedvectors.Vocab object at 0x0000023F822E12B0>, 'happened': <gensim.models.keyedvectors.Vocab object at 0x0000023F822E13C8>, 'nspurs': <gensim.models.keyedvectors.Vocab object at 0x0000023F822E16D8>, 'shit': <gensim.models.keyedvectors.Vocab object at 0x0000023F822E1710>, 'silverware': <gensim.models.keyedvectors.Vocab object at 0x0000023F822E1C18>, 'phil': <gensim.models.keyedvectors.Vocab object at 0x0000023F822E1CF8>, 'starts': <gensim.models.keyedvectors.Vocab object at 0x0000023F822E1D30>, 'finals': <gensim.models.keyedvectors.Vocab object at 0x0000023F822E15C0>, 'lets': <gensim.models.keyedvectors.Vocab object at 0x0000023F822E17B8>, 'melt': <gensim.models.keyedvectors.Vocab object at 0x0000023F822E1A20>, 'pressure': <gensim.models.keyedvectors.Vocab object at 0x0000023F822E1208>, '@redordead07': <gensim.models.keyedvectors.Vocab object at 0x0000023F822E1AC8>, 'ft': <gensim.models.keyedvectors.Vocab object at 0x0000023F822E1630>, 'finalists': <gensim.models.keyedvectors.Vocab object at 0x0000023F822E1668>, '2018': <gensim.models.keyedvectors.Vocab object at 0x0000023F822E1B70>, 'makes': <gensim.models.keyedvectors.Vocab object at 0x0000023F822E1C50>, '13': <gensim.models.keyedvectors.Vocab object at 0x0000023F822E1A58>, 'far': <gensim.models.keyedvectors.Vocab object at 0x0000023F822E19E8>, '@realisiah1': <gensim.models.keyedvectors.Vocab object at 0x0000023F822E1550>, 'nsanchez': <gensim.models.keyedvectors.Vocab object at 0x0000023F822E1DA0>, 'scoresheet': <gensim.models.keyedvectors.Vocab object at 0x0000023F822E1DD8>, 'tonight': <gensim.models.keyedvectors.Vocab object at 0x0000023F822E17F0>, 'played': <gensim.models.keyedvectors.Vocab object at 0x0000023F822E1390>, 'wonderful': <gensim.models.keyedvectors.Vocab object at 0x0000023F822E1BE0>, '#manchester': <gensim.models.keyedvectors.Vocab object at 0x0000023F822E1748>, 'bumped': <gensim.models.keyedvectors.Vocab object at 0x0000023F822E1F60>, '#bigron': <gensim.models.keyedvectors.Vocab object at 0x0000023F822E1908>, '#paddycrerand': <gensim.models.keyedvectors.Vocab object at 0x0000023F822E1B38>, '#legend': <gensim.models.keyedvectors.Vocab object at 0x0000023F822E1F98>, 'afternoon': <gensim.models.keyedvectors.Vocab object at 0x0000023F822E1FD0>, '@mufcsongs': <gensim.models.keyedvectors.Vocab object at 0x0000023F822E1940>, 'nole': <gensim.models.keyedvectors.Vocab object at 0x0000023F822E1E48>, 'ole': <gensim.models.keyedvectors.Vocab object at 0x0000023F822E1BA8>, 'ola': <gensim.models.keyedvectors.Vocab object at 0x0000023F822E1320>, 'ndrinks': <gensim.models.keyedvectors.Vocab object at 0x0000023F822E1B00>, 'estrella': <gensim.models.keyedvectors.Vocab object at 0x0000023F822E1E80>, 'cask': <gensim.models.keyedvectors.Vocab object at 0x0000023F822E1CC0>, \"nhe's\": <gensim.models.keyedvectors.Vocab object at 0x0000023F822E1E10>, 'spanish': <gensim.models.keyedvectors.Vocab object at 0x0000023F822E14E0>, 'nhe': <gensim.models.keyedvectors.Vocab object at 0x0000023F822E18D0>, 'b': <gensim.models.keyedvectors.Vocab object at 0x0000023F822E1C88>, '@ullalibt': <gensim.models.keyedvectors.Vocab object at 0x0000023F822E1860>, 'credit': <gensim.models.keyedvectors.Vocab object at 0x0000023F822E1D68>, 'jose': <gensim.models.keyedvectors.Vocab object at 0x0000023F822E1898>, 'keeping': <gensim.models.keyedvectors.Vocab object at 0x0000023F822D6240>, 'harry': <gensim.models.keyedvectors.Vocab object at 0x0000023F822D6390>, 'quiet': <gensim.models.keyedvectors.Vocab object at 0x0000023F822D6438>, '#thfc': <gensim.models.keyedvectors.Vocab object at 0x0000023F822D60B8>, '@cillacurlcy': <gensim.models.keyedvectors.Vocab object at 0x0000023F822D6198>, '@anderherrera': <gensim.models.keyedvectors.Vocab object at 0x0000023F822D61D0>, 'henrywinter': <gensim.models.keyedvectors.Vocab object at 0x0000023F822D62E8>, 'neasy': <gensim.models.keyedvectors.Vocab object at 0x0000023F822D6320>, 'tota': <gensim.models.keyedvectors.Vocab object at 0x0000023F822D67B8>, 'press': <gensim.models.keyedvectors.Vocab object at 0x0000023F822D6358>, 'conference': <gensim.models.keyedvectors.Vocab object at 0x0000023F822D6518>, '@carefreedann': <gensim.models.keyedvectors.Vocab object at 0x0000023F822D6550>, '8': <gensim.models.keyedvectors.Vocab object at 0x0000023F822D6588>, 'straight': <gensim.models.keyedvectors.Vocab object at 0x0000023F822D6668>, 'lost': <gensim.models.keyedvectors.Vocab object at 0x0000023F822D60F0>, 'london': <gensim.models.keyedvectors.Vocab object at 0x0000023F822D6160>, 'still': <gensim.models.keyedvectors.Vocab object at 0x0000023F822D6470>, 'white': <gensim.models.keyedvectors.Vocab object at 0x0000023F822D6978>, 'nkeep': <gensim.models.keyedvectors.Vocab object at 0x0000023F822D65C0>, 'dreaming': <gensim.models.keyedvectors.Vocab object at 0x0000023F822D65F8>, '#spurs': <gensim.models.keyedvectors.Vocab object at 0x0000023F822D6630>, '@iambolar': <gensim.models.keyedvectors.Vocab object at 0x0000023F822D68D0>, 'nander': <gensim.models.keyedvectors.Vocab object at 0x0000023F822D6B00>, 'winner': <gensim.models.keyedvectors.Vocab object at 0x0000023F822D6B70>, 'recover': <gensim.models.keyedvectors.Vocab object at 0x0000023F822D6BE0>, 'qualify': <gensim.models.keyedvectors.Vocab object at 0x0000023F822D6D30>, 'yu': <gensim.models.keyedvectors.Vocab object at 0x0000023F822D6EB8>, 'flattered': <gensim.models.keyedvectors.Vocab object at 0x0000023F822D67F0>, 'would': <gensim.models.keyedvectors.Vocab object at 0x0000023F822D6710>, 'speak': <gensim.models.keyedvectors.Vocab object at 0x0000023F822D69E8>, 'twice': <gensim.models.keyedvectors.Vocab object at 0x0000023F822D6A20>, 'kus': <gensim.models.keyedvectors.Vocab object at 0x0000023F822D6B38>, 'honestly': <gensim.models.keyedvectors.Vocab object at 0x0000023F822D6C50>, 'forgetting': <gensim.models.keyedvectors.Vocab object at 0x0000023F822D66D8>, 'natural': <gensim.models.keyedvectors.Vocab object at 0x0000023F822D6048>, 'reaction': <gensim.models.keyedvectors.Vocab object at 0x0000023F822D6748>, 'day': <gensim.models.keyedvectors.Vocab object at 0x0000023F822D6D68>, 'onto': <gensim.models.keyedvectors.Vocab object at 0x0000023F822D69B0>, 'overrate': <gensim.models.keyedvectors.Vocab object at 0x0000023F822D6940>, 'bailly': <gensim.models.keyedvectors.Vocab object at 0x0000023F822D6BA8>, 'average': <gensim.models.keyedvectors.Vocab object at 0x0000023F822D6C18>, 'returned': <gensim.models.keyedvectors.Vocab object at 0x0000023F822D6F98>, 'injury': <gensim.models.keyedvectors.Vocab object at 0x0000023F822D6CF8>, 'missed': <gensim.models.keyedvectors.Vocab object at 0x0000023F822D6898>, 'tickets': <gensim.models.keyedvectors.Vocab object at 0x0000023F822D6A90>, '@wembleystadium': <gensim.models.keyedvectors.Vocab object at 0x0000023F822D64E0>, 'reds': <gensim.models.keyedvectors.Vocab object at 0x0000023F822D6080>, 'keep': <gensim.models.keyedvectors.Vocab object at 0x0000023F822D6128>, 'marching': <gensim.models.keyedvectors.Vocab object at 0x0000023F822D6400>, 'happy': <gensim.models.keyedvectors.Vocab object at 0x0000023F822D6CC0>, 'days': <gensim.models.keyedvectors.Vocab object at 0x0000023F822D6F60>, 'result': <gensim.models.keyedvectors.Vocab object at 0x0000023F822D6DA0>, 'even': <gensim.models.keyedvectors.Vocab object at 0x0000023F822D6DD8>, 'punch': <gensim.models.keyedvectors.Vocab object at 0x0000023F822D6828>, 'face': <gensim.models.keyedvectors.Vocab object at 0x0000023F822D6A58>, 'idiot': <gensim.models.keyedvectors.Vocab object at 0x0000023F822D6208>, '#untiedvspurs': <gensim.models.keyedvectors.Vocab object at 0x0000023F822D6E80>, 'xf3': <gensim.models.keyedvectors.Vocab object at 0x0000023F822D6E10>, 'xa0': <gensim.models.keyedvectors.Vocab object at 0x0000023F822D6E48>, 'xa2': <gensim.models.keyedvectors.Vocab object at 0x0000023F822D66A0>, 'xae': <gensim.models.keyedvectors.Vocab object at 0x0000023F822D6AC8>, 'xbf': <gensim.models.keyedvectors.Vocab object at 0x0000023F822D6FD0>, 'semis': <gensim.models.keyedvectors.Vocab object at 0x0000023F822D6F28>, 'xc3': <gensim.models.keyedvectors.Vocab object at 0x0000023F822D6C88>, 'x91ana': <gensim.models.keyedvectors.Vocab object at 0x0000023F822B3080>, 'nchelsea': <gensim.models.keyedvectors.Vocab object at 0x0000023F822B3160>, 'hora': <gensim.models.keyedvectors.Vocab object at 0x0000023F822B3208>, '8:': <gensim.models.keyedvectors.Vocab object at 0x0000023F822B3320>, '00': <gensim.models.keyedvectors.Vocab object at 0x0000023F822B3240>, 'xc2': <gensim.models.keyedvectors.Vocab object at 0x0000023F822B3400>, 'xbffavorito': <gensim.models.keyedvectors.Vocab object at 0x0000023F822B3438>, '@realcrackling': <gensim.models.keyedvectors.Vocab object at 0x0000023F822B3048>, 'semi-finals': <gensim.models.keyedvectors.Vocab object at 0x0000023F822B33C8>, 'weekend': <gensim.models.keyedvectors.Vocab object at 0x0000023F822B3550>, 'want': <gensim.models.keyedvectors.Vocab object at 0x0000023F822B3710>, 'giving': <gensim.models.keyedvectors.Vocab object at 0x0000023F822B37B8>, 'real': <gensim.models.keyedvectors.Vocab object at 0x0000023F822B31D0>, 'pork': <gensim.models.keyedvectors.Vocab object at 0x0000023F822B30B8>, 'crackling': <gensim.models.keyedvectors.Vocab object at 0x0000023F822B30F0>, 'co': <gensim.models.keyedvectors.Vocab object at 0x0000023F822B32B0>, 'selection': <gensim.models.keyedvectors.Vocab object at 0x0000023F822B3518>, 'nrt': <gensim.models.keyedvectors.Vocab object at 0x0000023F822B34E0>, '@jagratishukla29': <gensim.models.keyedvectors.Vocab object at 0x0000023F822B3828>, 'nmy': <gensim.models.keyedvectors.Vocab object at 0x0000023F822B39B0>, \"he's\": <gensim.models.keyedvectors.Vocab object at 0x0000023F822B3198>, 'effing': <gensim.models.keyedvectors.Vocab object at 0x0000023F822B3390>, 'proof': <gensim.models.keyedvectors.Vocab object at 0x0000023F822B3278>, 'run': <gensim.models.keyedvectors.Vocab object at 0x0000023F822B3908>, 'success': <gensim.models.keyedvectors.Vocab object at 0x0000023F822B3D68>, '#premierleague': <gensim.models.keyedvectors.Vocab object at 0x0000023F822B32E8>, 'managers': <gensim.models.keyedvectors.Vocab object at 0x0000023F822B37F0>, 'note': <gensim.models.keyedvectors.Vocab object at 0x0000023F822B3860>, 'nwell': <gensim.models.keyedvectors.Vocab object at 0x0000023F822B3BE0>, 'yep': <gensim.models.keyedvectors.Vocab object at 0x0000023F822B3A20>, 'particularly': <gensim.models.keyedvectors.Vocab object at 0x0000023F822B3E80>, 'sophisticated': <gensim.models.keyedvectors.Vocab object at 0x0000023F822B3128>, 'shot': <gensim.models.keyedvectors.Vocab object at 0x0000023F822B3898>, 'target': <gensim.models.keyedvectors.Vocab object at 0x0000023F822B35C0>, '2nd': <gensim.models.keyedvectors.Vocab object at 0x0000023F822B36A0>, 'half': <gensim.models.keyedvectors.Vocab object at 0x0000023F822B36D8>, 'spirit': <gensim.models.keyedvectors.Vocab object at 0x0000023F822B3BA8>, '@thiluxan': <gensim.models.keyedvectors.Vocab object at 0x0000023F822B35F8>, 'top': <gensim.models.keyedvectors.Vocab object at 0x0000023F822B3EF0>, 'notch': <gensim.models.keyedvectors.Vocab object at 0x0000023F822B3F98>, 'job': <gensim.models.keyedvectors.Vocab object at 0x0000023F822B3EB8>, '@ogundamisi': <gensim.models.keyedvectors.Vocab object at 0x0000023F822B3C50>, '@chelseafc': <gensim.models.keyedvectors.Vocab object at 0x0000023F822B3E10>, '@plateauutdfc': <gensim.models.keyedvectors.Vocab object at 0x0000023F822B3E48>, 'started': <gensim.models.keyedvectors.Vocab object at 0x0000023F822B3588>, 'supporting': <gensim.models.keyedvectors.Vocab object at 0x0000023F822B3B38>, '@stationarystoresfc': <gensim.models.keyedvectors.Vocab object at 0x0000023F822B3CF8>, 'watching': <gensim.models.keyedvectors.Vocab object at 0x0000023F822B3F28>, 'woke': <gensim.models.keyedvectors.Vocab object at 0x0000023F822B3B00>, 'fantastic': <gensim.models.keyedvectors.Vocab object at 0x0000023F822B3780>, 'news': <gensim.models.keyedvectors.Vocab object at 0x0000023F822B3978>, '@emiratesfacup': <gensim.models.keyedvectors.Vocab object at 0x0000023F822B3748>, 'ashley': <gensim.models.keyedvectors.Vocab object at 0x0000023F822B3CC0>, 'young': <gensim.models.keyedvectors.Vocab object at 0x0000023F822B3F60>, 'quenching': <gensim.models.keyedvectors.Vocab object at 0x0000023F822B3630>, 'thirst': <gensim.models.keyedvectors.Vocab object at 0x0000023F822B38D0>, 'tears': <gensim.models.keyedvectors.Vocab object at 0x0000023F822B3AC8>, 'haters': <gensim.models.keyedvectors.Vocab object at 0x0000023F822B3B70>, 'victory': <gensim.models.keyedvectors.Vocab object at 0x0000023F822B3FD0>, 'nmanchester': <gensim.models.keyedvectors.Vocab object at 0x0000023F822B3940>, 'ngreat': <gensim.models.keyedvectors.Vocab object at 0x0000023F822B62B0>, 'effort': <gensim.models.keyedvectors.Vocab object at 0x0000023F822B65C0>, 'njose': <gensim.models.keyedvectors.Vocab object at 0x0000023F822B60B8>, 'master': <gensim.models.keyedvectors.Vocab object at 0x0000023F822B6358>, 'sanch': <gensim.models.keyedvectors.Vocab object at 0x0000023F822B64A8>, 'enjoyed': <gensim.models.keyedvectors.Vocab object at 0x0000023F822B6940>, 'earlier': <gensim.models.keyedvectors.Vocab object at 0x0000023F822B6320>, '@jpgcollard': <gensim.models.keyedvectors.Vocab object at 0x0000023F822B6198>, 'cabinet': <gensim.models.keyedvectors.Vocab object at 0x0000023F822B6668>, 'nearly': <gensim.models.keyedvectors.Vocab object at 0x0000023F822B6C50>, '#smallclub': <gensim.models.keyedvectors.Vocab object at 0x0000023F822B6CC0>, '#northlondonisred': <gensim.models.keyedvectors.Vocab object at 0x0000023F822B6550>, 'nrelive': <gensim.models.keyedvectors.Vocab object at 0x0000023F822B6128>, 'brilliant': <gensim.models.keyedvectors.Vocab object at 0x0000023F822B6DA0>, 'instagram': <gensim.models.keyedvectors.Vocab object at 0x0000023F822B64E0>, '@spurslgbt': <gensim.models.keyedvectors.Vocab object at 0x0000023F822B6860>, 'nervous': <gensim.models.keyedvectors.Vocab object at 0x0000023F822B6A20>, 'excited': <gensim.models.keyedvectors.Vocab object at 0x0000023F822B6BE0>, 'x99ve': <gensim.models.keyedvectors.Vocab object at 0x0000023F822B6400>, 'found': <gensim.models.keyedvectors.Vocab object at 0x0000023F822B6588>, 'pin': <gensim.models.keyedvectors.Vocab object at 0x0000023F822B68D0>, 'badge': <gensim.models.keyedvectors.Vocab object at 0x0000023F822B65F8>, 'last': <gensim.models.keyedvectors.Vocab object at 0x0000023F822B66D8>, 'batch': <gensim.models.keyedvectors.Vocab object at 0x0000023F822B67B8>, 'guess': <gensim.models.keyedvectors.Vocab object at 0x0000023F822B6048>, 'first': <gensim.models.keyedvectors.Vocab object at 0x0000023F822B60F0>, '@ilovewengerball': <gensim.models.keyedvectors.Vocab object at 0x0000023F822B6278>, 'madness': <gensim.models.keyedvectors.Vocab object at 0x0000023F822B6710>, '#football': <gensim.models.keyedvectors.Vocab object at 0x0000023F822B6208>, ';\\\\': <gensim.models.keyedvectors.Vocab object at 0x0000023F822B6F98>, 'nyesterday': <gensim.models.keyedvectors.Vocab object at 0x0000023F822B69E8>, 'footballing': <gensim.models.keyedvectors.Vocab object at 0x0000023F822B6C88>, 'icon': <gensim.models.keyedvectors.Vocab object at 0x0000023F822B6A58>, 'resigned': <gensim.models.keyedvectors.Vocab object at 0x0000023F822B69B0>, 'poor': <gensim.models.keyedvectors.Vocab object at 0x0000023F822B6D68>, 'season': <gensim.models.keyedvectors.Vocab object at 0x0000023F822B66A0>, 'whic': <gensim.models.keyedvectors.Vocab object at 0x0000023F822B6780>, '@greatgracious': <gensim.models.keyedvectors.Vocab object at 0x0000023F822B6A90>, 'agree': <gensim.models.keyedvectors.Vocab object at 0x0000023F822B63C8>, '@marcusrashford': <gensim.models.keyedvectors.Vocab object at 0x0000023F822B6AC8>, 'yeah': <gensim.models.keyedvectors.Vocab object at 0x0000023F822B6E48>, 'buried': <gensim.models.keyedvectors.Vocab object at 0x0000023F822B67F0>, 'chance': <gensim.models.keyedvectors.Vocab object at 0x0000023F822B6EB8>, \"let's\": <gensim.models.keyedvectors.Vocab object at 0x0000023F822B6B38>, 'glad': <gensim.models.keyedvectors.Vocab object at 0x0000023F822B6470>, 'embarrassing': <gensim.models.keyedvectors.Vocab object at 0x0000023F822B6748>, 'guy': <gensim.models.keyedvectors.Vocab object at 0x0000023F822B6390>, 'main': <gensim.models.keyedvectors.Vocab object at 0x0000023F822B6978>, '3rd': <gensim.models.keyedvectors.Vocab object at 0x0000023F822B6240>, 'round': <gensim.models.keyedvectors.Vocab object at 0x0000023F822B6B00>, 'onward': <gensim.models.keyedvectors.Vocab object at 0x0000023F822B6518>, 'hotspur': <gensim.models.keyedvectors.Vocab object at 0x0000023F822B6898>, '@ladbrokes': <gensim.models.keyedvectors.Vocab object at 0x0000023F822B6908>, 'realistic': <gensim.models.keyedvectors.Vocab object at 0x0000023F822B6CF8>, 'loss': <gensim.models.keyedvectors.Vocab object at 0x0000023F822B6B70>, 'manager': <gensim.models.keyedvectors.Vocab object at 0x0000023F822B6BA8>, 'vision': <gensim.models.keyedvectors.Vocab object at 0x0000023F822B6C18>, 'x85': <gensim.models.keyedvectors.Vocab object at 0x0000023F822B6630>, 'nna': <gensim.models.keyedvectors.Vocab object at 0x0000023F822B6F60>, 'epp': <gensim.models.keyedvectors.Vocab object at 0x0000023F822B6828>, 'burst': <gensim.models.keyedvectors.Vocab object at 0x0000023F822B6D30>, 'yansh': <gensim.models.keyedvectors.Vocab object at 0x0000023F822DA240>, 'hold': <gensim.models.keyedvectors.Vocab object at 0x0000023F822DA2B0>, 'hin': <gensim.models.keyedvectors.Vocab object at 0x0000023F822DA668>, 'shatter': <gensim.models.keyedvectors.Vocab object at 0x0000023F822DA0B8>, 'net': <gensim.models.keyedvectors.Vocab object at 0x0000023F822DA198>, 'everywhere': <gensim.models.keyedvectors.Vocab object at 0x0000023F822DA208>, 'scatter': <gensim.models.keyedvectors.Vocab object at 0x0000023F822DA400>, 'nmourinho': <gensim.models.keyedvectors.Vocab object at 0x0000023F822DA5F8>, 'na': <gensim.models.keyedvectors.Vocab object at 0x0000023F822DA710>, 'goat': <gensim.models.keyedvectors.Vocab object at 0x0000023F822DA828>}\n"
     ]
    }
   ],
   "source": [
    "print(model.wv.vocab)"
   ]
  },
  {
   "cell_type": "markdown",
   "metadata": {
    "collapsed": true
   },
   "source": [
    "The MIT License (MIT)\n",
    "\n",
    "Copyright (c) 2016-2017 Rohan Jahagirdar, Sai Nikhil Dogiparty\n",
    "\n",
    "Permission is hereby granted, free of charge, to any person obtaining a copy\n",
    "of this software and associated documentation files (the \"Software\"), to deal\n",
    "in the Software without restriction, including without limitation the rights\n",
    "to use, copy, modify, merge, publish, distribute, sublicense, and/or sell\n",
    "copies of the Software, and to permit persons to whom the Software is\n",
    "furnished to do so, subject to the following conditions:\n",
    "\n",
    "The above copyright notice and this permission notice shall be included in all\n",
    "copies or substantial portions of the Software.\n",
    "\n",
    "THE SOFTWARE IS PROVIDED \"AS IS\", WITHOUT WARRANTY OF ANY KIND, EXPRESS OR\n",
    "IMPLIED, INCLUDING BUT NOT LIMITED TO THE WARRANTIES OF MERCHANTABILITY,\n",
    "FITNESS FOR A PARTICULAR PURPOSE AND NONINFRINGEMENT. IN NO EVENT SHALL THE\n",
    "AUTHORS OR COPYRIGHT HOLDERS BE LIABLE FOR ANY CLAIM, DAMAGES OR OTHER\n",
    "LIABILITY, WHETHER IN AN ACTION OF CONTRACT, TORT OR OTHERWISE, ARISING FROM,\n",
    "OUT OF OR IN CONNECTION WITH THE SOFTWARE OR THE USE OR OTHER DEALINGS IN THE\n",
    "SOFTWARE."
   ]
  },
  {
   "cell_type": "code",
   "execution_count": null,
   "metadata": {
    "collapsed": true
   },
   "outputs": [],
   "source": []
  }
 ],
 "metadata": {
  "kernelspec": {
   "display_name": "Python 3",
   "language": "python",
   "name": "python3"
  },
  "language_info": {
   "codemirror_mode": {
    "name": "ipython",
    "version": 3
   },
   "file_extension": ".py",
   "mimetype": "text/x-python",
   "name": "python",
   "nbconvert_exporter": "python",
   "pygments_lexer": "ipython3",
   "version": "3.6.0"
  }
 },
 "nbformat": 4,
 "nbformat_minor": 2
}
